{
  "nbformat": 4,
  "nbformat_minor": 0,
  "metadata": {
    "colab": {
      "provenance": []
    },
    "kernelspec": {
      "name": "python3",
      "display_name": "Python 3"
    },
    "language_info": {
      "name": "python"
    }
  },
  "cells": [
    {
      "cell_type": "code",
      "execution_count": 33,
      "metadata": {
        "id": "i5j_dr-gd8jJ"
      },
      "outputs": [],
      "source": [
        "import pandas as pd\n",
        "import numpy as np\n",
        "import operator\n",
        "import matplotlib.pyplot as plt"
      ]
    },
    {
      "cell_type": "code",
      "source": [
        "# reads a CSV file named iris data andnstores in Pandas DataFrame \n",
        "data = pd.read_csv('iris.csv', header=None, names=['sepal_length', 'sepal_width', 'petal_length', 'petal_width', 'class'])\n",
        "print(data)"
      ],
      "metadata": {
        "colab": {
          "base_uri": "https://localhost:8080/"
        },
        "id": "AVa59ZvWqAVT",
        "outputId": "6ff0045a-6f2c-4ea9-cc40-7116d7c650ac"
      },
      "execution_count": null,
      "outputs": [
        {
          "output_type": "stream",
          "name": "stdout",
          "text": [
            "     sepal_length  sepal_width  petal_length  petal_width      class\n",
            "0             5.1          3.5           1.4          0.2     Setosa\n",
            "1             4.9          3.0           1.4          0.2     Setosa\n",
            "2             4.7          3.2           1.3          0.2     Setosa\n",
            "3             4.6          3.1           1.5          0.2     Setosa\n",
            "4             5.0          3.6           1.4          0.2     Setosa\n",
            "..            ...          ...           ...          ...        ...\n",
            "145           6.7          3.0           5.2          2.3  Virginica\n",
            "146           6.3          2.5           5.0          1.9  Virginica\n",
            "147           6.5          3.0           5.2          2.0  Virginica\n",
            "148           6.2          3.4           5.4          2.3  Virginica\n",
            "149           5.9          3.0           5.1          1.8  Virginica\n",
            "\n",
            "[150 rows x 5 columns]\n"
          ]
        }
      ]
    },
    {
      "cell_type": "code",
      "source": [
        "# generates a randomized array of integers from 0 to the number of rows \n",
        "indices = np.random.permutation(data.shape[0])\n",
        "\n",
        "# calculating the index on which data will be divided \n",
        "div = int(0.75 * len(indices))\n",
        "\n",
        "# dividing the indexes into two array\n",
        "development_id, test_id = indices[:div], indices[div:]\n",
        "\n",
        "# using loc method of pandas dataframe which will select a particular row and its all columns\n",
        "# its just like splitting into training set and testing set\n",
        "\n",
        "# ?????????????????? i think we should exclude last column here ??????????????????? if not then we should in euclidean distance\n",
        "\n",
        "development_set, test_set = data.loc[development_id,:], data.loc[test_id,:]\n",
        "print(\"Development Set:\\n\", development_set, \"\\n\\nTest Set:\\n\", test_set)"
      ],
      "metadata": {
        "id": "ceAO-AwNq1vK",
        "colab": {
          "base_uri": "https://localhost:8080/"
        },
        "outputId": "fad587eb-f021-4ef8-9250-1f9cb51f15bb"
      },
      "execution_count": null,
      "outputs": [
        {
          "output_type": "stream",
          "name": "stdout",
          "text": [
            "Development Set:\n",
            "      sepal_length  sepal_width  petal_length  petal_width       class\n",
            "37            4.9          3.6           1.4          0.1      Setosa\n",
            "77            6.7          3.0           5.0          1.7  Versicolor\n",
            "119           6.0          2.2           5.0          1.5   Virginica\n",
            "8             4.4          2.9           1.4          0.2      Setosa\n",
            "145           6.7          3.0           5.2          2.3   Virginica\n",
            "..            ...          ...           ...          ...         ...\n",
            "102           7.1          3.0           5.9          2.1   Virginica\n",
            "149           5.9          3.0           5.1          1.8   Virginica\n",
            "76            6.8          2.8           4.8          1.4  Versicolor\n",
            "139           6.9          3.1           5.4          2.1   Virginica\n",
            "143           6.8          3.2           5.9          2.3   Virginica\n",
            "\n",
            "[112 rows x 5 columns] \n",
            "\n",
            "Test Set:\n",
            "      sepal_length  sepal_width  petal_length  petal_width       class\n",
            "4             5.0          3.6           1.4          0.2      Setosa\n",
            "86            6.7          3.1           4.7          1.5  Versicolor\n",
            "22            4.6          3.6           1.0          0.2      Setosa\n",
            "40            5.0          3.5           1.3          0.3      Setosa\n",
            "117           7.7          3.8           6.7          2.2   Virginica\n",
            "118           7.7          2.6           6.9          2.3   Virginica\n",
            "142           5.8          2.7           5.1          1.9   Virginica\n",
            "85            6.0          3.4           4.5          1.6  Versicolor\n",
            "103           6.3          2.9           5.6          1.8   Virginica\n",
            "16            5.4          3.9           1.3          0.4      Setosa\n",
            "112           6.8          3.0           5.5          2.1   Virginica\n",
            "136           6.3          3.4           5.6          2.4   Virginica\n",
            "100           6.3          3.3           6.0          2.5   Virginica\n",
            "93            5.0          2.3           3.3          1.0  Versicolor\n",
            "42            4.4          3.2           1.3          0.2      Setosa\n",
            "95            5.7          3.0           4.2          1.2  Versicolor\n",
            "32            5.2          4.1           1.5          0.1      Setosa\n",
            "66            5.6          3.0           4.5          1.5  Versicolor\n",
            "98            5.1          2.5           3.0          1.1  Versicolor\n",
            "55            5.7          2.8           4.5          1.3  Versicolor\n",
            "0             5.1          3.5           1.4          0.2      Setosa\n",
            "35            5.0          3.2           1.2          0.2      Setosa\n",
            "65            6.7          3.1           4.4          1.4  Versicolor\n",
            "26            5.0          3.4           1.6          0.4      Setosa\n",
            "45            4.8          3.0           1.4          0.3      Setosa\n",
            "29            4.7          3.2           1.6          0.2      Setosa\n",
            "60            5.0          2.0           3.5          1.0  Versicolor\n",
            "11            4.8          3.4           1.6          0.2      Setosa\n",
            "122           7.7          2.8           6.7          2.0   Virginica\n",
            "6             4.6          3.4           1.4          0.3      Setosa\n",
            "106           4.9          2.5           4.5          1.7   Virginica\n",
            "111           6.4          2.7           5.3          1.9   Virginica\n",
            "120           6.9          3.2           5.7          2.3   Virginica\n",
            "113           5.7          2.5           5.0          2.0   Virginica\n",
            "49            5.0          3.3           1.4          0.2      Setosa\n",
            "71            6.1          2.8           4.0          1.3  Versicolor\n",
            "94            5.6          2.7           4.2          1.3  Versicolor\n",
            "104           6.5          3.0           5.8          2.2   Virginica\n"
          ]
        }
      ]
    },
    {
      "cell_type": "code",
      "source": [
        "# extracting the class labels for development and testing data\n",
        "test_class = list(test_set.iloc[:,-1])\n",
        "dev_class = list(development_set.iloc[:,-1])\n",
        "\n",
        "# calculating mean and standard deviation for both development set and testing set\n",
        "mean_development_set = development_set.mean()\n",
        "mean_test_set = test_set.mean()\n",
        "std_development_set = development_set.std()\n",
        "std_test_set = test_set.std()"
      ],
      "metadata": {
        "id": "d8X1jbuatel1",
        "colab": {
          "base_uri": "https://localhost:8080/"
        },
        "outputId": "dbda56f1-047e-4cc9-b7eb-f4384fa683f6"
      },
      "execution_count": null,
      "outputs": [
        {
          "output_type": "stream",
          "name": "stderr",
          "text": [
            "<ipython-input-30-f2c127012c5f>:6: FutureWarning: Dropping of nuisance columns in DataFrame reductions (with 'numeric_only=None') is deprecated; in a future version this will raise TypeError.  Select only valid columns before calling the reduction.\n",
            "  mean_development_set = development_set.mean()\n",
            "<ipython-input-30-f2c127012c5f>:7: FutureWarning: Dropping of nuisance columns in DataFrame reductions (with 'numeric_only=None') is deprecated; in a future version this will raise TypeError.  Select only valid columns before calling the reduction.\n",
            "  mean_test_set = test_set.mean()\n",
            "<ipython-input-30-f2c127012c5f>:8: FutureWarning: Dropping of nuisance columns in DataFrame reductions (with 'numeric_only=None') is deprecated; in a future version this will raise TypeError.  Select only valid columns before calling the reduction.\n",
            "  std_development_set = development_set.std()\n",
            "<ipython-input-30-f2c127012c5f>:9: FutureWarning: Dropping of nuisance columns in DataFrame reductions (with 'numeric_only=None') is deprecated; in a future version this will raise TypeError.  Select only valid columns before calling the reduction.\n",
            "  std_test_set = test_set.std()\n"
          ]
        }
      ]
    },
    {
      "cell_type": "code",
      "source": [
        "# finding Euclidean Distance\n",
        "def euclideanDistance(data_1, data_2, data_len):\n",
        "    dist = 0\n",
        "    for i in range(data_len):\n",
        "        dist = dist + np.square(data_1[i] - data_2[i])\n",
        "    return np.sqrt(dist)\n",
        "\n",
        "# Formula for Normalized Euclidean Distance\n",
        "# d(p, q) = sqrt(sum(((pi - mu_i) / sigma_i - (qi - mu_i) / sigma_i) ** 2))\n",
        "# pi and qi are features of data_1 and data_2 and mu is mean and sigma_i is standard deviation\n",
        "def normalizedEuclideanDistance(data_1, data_2, data_len, data_mean, data_std):\n",
        "    n_dist = 0\n",
        "    for i in range(data_len):\n",
        "        n_dist = n_dist + (np.square(((data_1[i] - data_mean[i])/data_std[i]) - ((data_2[i] - data_mean[i])/data_std[i])))\n",
        "    return np.sqrt(n_dist)\n",
        "\n",
        "\n",
        "def cosineSimilarity(data_1, data_2):\n",
        "# computes the dot product of data_1 and data_2 without considering the last element of data_2.\n",
        "    dot = np.dot(data_1, data_2[:-1])\n",
        "    norm_data_1 = np.linalg.norm(data_1)\n",
        "    norm_data_2 = np.linalg.norm(data_2[:-1])\n",
        "\n",
        "# It computes the cosine similarity between data_1 and data_2, dividing dot by the product of the two Euclidean norms.\n",
        "    cos = dot / (norm_data_1 * norm_data_2)\n",
        "    return (1-cos)\n",
        "\n",
        "\n",
        "# This function calculates the distance between the test instance and all instances\n",
        "# Then it finds the k nearest neighbors and returns the class\n",
        "\n",
        "# For K-nearest neighbours \n",
        "def knn(dataset, testInstance, k, dist_method, dataset_mean, dataset_std): \n",
        "    distances = {}\n",
        "\n",
        "    # ???? why length is depending on test instance ????\n",
        "\n",
        "    length = testInstance.shape[1]\n",
        "    if dist_method == 'euclidean':\n",
        "        for x in range(len(dataset)):\n",
        "            dist_up = euclideanDistance(testInstance, dataset.iloc[x], length)\n",
        "            distances[x] = dist_up[0]\n",
        "    elif dist_method == 'normalized_euclidean':\n",
        "        for x in range(len(dataset)):\n",
        "            dist_up = normalizedEuclideanDistance(testInstance, dataset.iloc[x], length, dataset_mean, dataset_std)\n",
        "            distances[x] = dist_up[0]\n",
        "    elif dist_method == 'cosine':\n",
        "        for x in range(len(dataset)):\n",
        "            dist_up = cosineSimilarity(testInstance, dataset.iloc[x])\n",
        "            distances[x] = dist_up[0]\n",
        "\n",
        "    # Sort values based on distance\n",
        "    sort_distances = sorted(distances.items(), key=operator.itemgetter(1))\n",
        "    neighbors = []\n",
        "    # Extracting nearest k neighbors\n",
        "    for x in range(k):\n",
        "        neighbors.append(sort_distances[x][0])\n",
        "    # Initializing counts for 'class' labels counts as 0\n",
        "    counts = {\"Iris-setosa\" : 0, \"Iris-versicolor\" : 0, \"Iris-virginica\" : 0}\n",
        "    # Computing the most frequent class\n",
        "    for x in range(len(neighbors)):\n",
        "        response = dataset.iloc[neighbors[x]][-1] \n",
        "        if response in counts:\n",
        "            counts[response] += 1\n",
        "        else:\n",
        "            counts[response] = 1\n",
        "    # Sorting the class in reverse order to get the most frequest class\n",
        "    sort_counts = sorted(counts.items(), key=operator.itemgetter(1), reverse=True)\n",
        "    return(sort_counts[0][0])\n",
        "\n",
        "  \n"
      ],
      "metadata": {
        "id": "3EmMkdo2uXlY"
      },
      "execution_count": null,
      "outputs": []
    },
    {
      "cell_type": "code",
      "source": [
        "# Now we implememt KNN algorithm on development set for various values of K\n",
        "# It iterates through each data point in the development set \n",
        "# to determine its predicted class label based on the k nearest neighbors\n",
        "\n",
        "row_list = []\n",
        "for index, rows in development_set.iterrows():\n",
        "    my_list =[rows.sepal_length, rows.sepal_width, rows.petal_length, rows.petal_width]       \n",
        "    row_list.append([my_list])\n",
        "# k values for the number of neighbors that need to be considered\n",
        "k_n = [1, 3, 5, 7]\n",
        "# Distance metrics\n",
        "distance_methods = ['euclidean', 'normalized_euclidean', 'cosine']\n",
        "# Performing kNN on the development set by iterating all of the development set data points and for each k and each distance metric\n",
        "obs_k = {}\n",
        "for dist_method in distance_methods:\n",
        "    development_set_obs_k = {}\n",
        "    for k in k_n:\n",
        "        development_set_obs = []\n",
        "        for i in range(len(row_list)):\n",
        "          development_set_obs.append(knn(development_set, pd.DataFrame(row_list[i]), k, dist_method, mean_development_set, std_development_set))\n",
        "        development_set_obs_k[k] = development_set_obs\n",
        "    # Nested Dictionary containing the observed class for each k and each distance metric (obs_k of the form obs_k[dist_method][k])\n",
        "    obs_k[dist_method] = development_set_obs_k\n",
        "    print(dist_method.upper() + \" distance method performed on the dataset for all k values!\")\n",
        "\n"
      ],
      "metadata": {
        "id": "sftWmxPYuXg9",
        "colab": {
          "base_uri": "https://localhost:8080/"
        },
        "outputId": "54e78713-8202-495f-b058-952511b68769"
      },
      "execution_count": 36,
      "outputs": [
        {
          "output_type": "stream",
          "name": "stdout",
          "text": [
            "EUCLIDEAN distance method performed on the dataset for all k values!\n",
            "NORMALIZED_EUCLIDEAN distance method performed on the dataset for all k values!\n",
            "COSINE distance method performed on the dataset for all k values!\n"
          ]
        }
      ]
    },
    {
      "cell_type": "code",
      "source": [
        "accuracy = {}\n",
        "for key in obs_k.keys():\n",
        "    accuracy[key] = {}\n",
        "    for k_value in obs_k[key].keys():\n",
        "        #print('k = ', key)\n",
        "        count = 0\n",
        "        for i,j in zip(dev_class, obs_k[key][k_value]):\n",
        "            if i == j:\n",
        "                count = count + 1\n",
        "            else:\n",
        "                pass\n",
        "        accuracy[key][k_value] = count/(len(dev_class))\n",
        "\n",
        "# Storing the accuracy for each k and each distance metric into a dataframe\n",
        "df_res = pd.DataFrame({'k': k_n})\n",
        "for key in accuracy.keys():\n",
        "    value = list(accuracy[key].values())\n",
        "    df_res[key] = value\n",
        "print(df_res)\n",
        "\n",
        "# Plotting a Bar Chart for accuracy\n",
        "draw = df_res.plot(x='k', y=['euclidean', 'normalized_euclidean', 'cosine'], kind=\"bar\", colormap='YlGnBu')\n",
        "draw.set(ylabel='Accuracy')\n",
        "\n",
        "# Ignoring k=1 if the value of accuracy for k=1 is 100%, since this mostly implies overfitting\n",
        "df_res.loc[df_res['k'] == 1.0, ['euclidean', 'normalized_euclidean', 'cosine']] = np.nan\n",
        "\n",
        "# Fetching the best k value for using all hyper-parameters\n",
        "# In case the accuracy is the same for different k and different distance metric selecting the first of all the same\n",
        "column_val = [c for c in df_res.columns if not c.startswith('k')]\n",
        "col_max = df_res[column_val].max().idxmax()\n",
        "best_dist_method = col_max\n",
        "row_max = df_res[col_max].argmax()\n",
        "best_k = int(df_res.iloc[row_max]['k'])\n",
        "if df_res.isnull().values.any():\n",
        "    print('\\n\\n\\nBest k value is\\033[1m', best_k, '\\033[0mand best distance metric is\\033[1m', best_dist_method, '\\033[0m. Ignoring k=1 if the value of accuracy for k=1 is 100%, since this mostly implies overfitting')\n",
        "else:\n",
        "    print('\\n\\n\\nBest k value is\\033[1m', best_k, '\\033[0mand best distance metric is\\033[1m', best_dist_method, '\\033[0m.')"
      ],
      "metadata": {
        "id": "PXbueqHU5kTe",
        "colab": {
          "base_uri": "https://localhost:8080/",
          "height": 449
        },
        "outputId": "7039496c-ba4f-4f83-c910-5ddb3a41d3a5"
      },
      "execution_count": 38,
      "outputs": [
        {
          "output_type": "stream",
          "name": "stdout",
          "text": [
            "   k  euclidean  normalized_euclidean    cosine\n",
            "0  1   1.000000              1.000000  1.000000\n",
            "1  3   0.955357              0.946429  0.982143\n",
            "2  5   0.964286              0.937500  0.964286\n",
            "3  7   0.964286              0.964286  0.964286\n",
            "\n",
            "\n",
            "\n",
            "Best k value is\u001b[1m 3 \u001b[0mand best distance metric is\u001b[1m cosine \u001b[0m. Ignoring k=1 if the value of accuracy for k=1 is 100%, since this mostly implies overfitting\n"
          ]
        },
        {
          "output_type": "display_data",
          "data": {
            "text/plain": [
              "<Figure size 432x288 with 1 Axes>"
            ],
            "image/png": "[encoded data removed]"
          },
          "metadata": {
            "needs_background": "light"
          }
        }
      ]
    },
    {
      "cell_type": "code",
      "source": [
        "print('\\n\\n\\nBest k value is\\033[1m', best_k, '\\033[0mand best distance metric is\\033[1m', best_dist_method, '\\033[0m')"
      ],
      "metadata": {
        "id": "DNWXmpPf5qEP",
        "colab": {
          "base_uri": "https://localhost:8080/"
        },
        "outputId": "98bc5100-6437-4f92-8be9-6e631a799e11"
      },
      "execution_count": 39,
      "outputs": [
        {
          "output_type": "stream",
          "name": "stdout",
          "text": [
            "\n",
            "\n",
            "\n",
            "Best k value is\u001b[1m 3 \u001b[0mand best distance metric is\u001b[1m cosine \u001b[0m\n"
          ]
        }
      ]
    },
    {
      "cell_type": "code",
      "source": [
        "# Creating a list of list of all columns except 'class' by iterating through the development set\n",
        "row_list_test = []\n",
        "for index, rows in test_set.iterrows(): \n",
        "    my_list =[rows.sepal_length, rows.sepal_width, rows.petal_length, rows.petal_width]       \n",
        "    row_list_test.append([my_list])\n",
        "test_set_obs = []\n",
        "for i in range(len(row_list_test)):\n",
        "    test_set_obs.append(knn(test_set, pd.DataFrame(row_list_test[i]), best_k, best_dist_method, mean_test_set, std_test_set))\n",
        "#print(test_set_obs)\n",
        "\n",
        "count = 0\n",
        "for i,j in zip(test_class, test_set_obs):\n",
        "    if i == j:\n",
        "        count = count + 1\n",
        "    else:\n",
        "        pass\n",
        "accuracy_test = count/(len(test_class))\n",
        "print('Final Accuracy of the Test dataset is ', accuracy_test)"
      ],
      "metadata": {
        "id": "c4NZeDft5tQd",
        "colab": {
          "base_uri": "https://localhost:8080/"
        },
        "outputId": "23f1c219-1d7e-4d52-8ec2-416d16b5c51b"
      },
      "execution_count": 40,
      "outputs": [
        {
          "output_type": "stream",
          "name": "stdout",
          "text": [
            "Final Accuracy of the Test dataset is  1.0\n"
          ]
        }
      ]
    }
  ]
}