{
  "nbformat": 4,
  "nbformat_minor": 0,
  "metadata": {
    "colab": {
      "provenance": [],
      "authorship_tag": "ABX9TyMBxyyfEISesGHoFxRFDu5D",
      "include_colab_link": true
    },
    "kernelspec": {
      "name": "python3",
      "display_name": "Python 3"
    },
    "language_info": {
      "name": "python"
    }
  },
  "cells": [
    {
      "cell_type": "markdown",
      "metadata": {
        "id": "view-in-github",
        "colab_type": "text"
      },
      "source": [
        "<a href=\"https://colab.research.google.com/github/Maryam-Zubair/MachineLearning_Assignment/blob/main/Falling_Prediction_using_KNN.ipynb\" target=\"_parent\"><img src=\"https://colab.research.google.com/assets/colab-badge.svg\" alt=\"Open In Colab\"/></a>"
      ]
    },
    {
      "cell_type": "code",
      "execution_count": 7,
      "metadata": {
        "id": "P9DhojxARWYq"
      },
      "outputs": [],
      "source": [
        "from math import sqrt\n",
        "\n",
        "# In this function we are calculating the distance between two rows \n",
        "def euclidean_distance(row1, row2):\n",
        "\tdistance = 0.0\n",
        "  # this for loop is covering all columns except the last one as it represents the label\n",
        "\tfor i in range(len(row1)-1):\n",
        "\t\tdistance += (row1[i] - row2[i])**2\n",
        "\treturn sqrt(distance)"
      ]
    },
    {
      "cell_type": "code",
      "source": [
        " \n",
        "def get_neighbors(train, test_row, num_neighbors):\n",
        "\n",
        "# taking an empty list which we will append later on\n",
        "# iterating through the training dataset\n",
        "# calling the Euclidean function to find distance between train and testing dataset\n",
        "# after finding that distance we are appenidng the trainset and that distance in the distance list we created earlier\n",
        "# this is simply sorting the list in ascending order on the basis of second element which is distance here\n",
        "\tdistances = list()\n",
        "\tfor train_row in train:\n",
        "\t\tdist = euclidean_distance(test_row, train_row)\n",
        "\t\tdistances.append((train_row, dist))\n",
        "\tdistances.sort(key=lambda tup: tup[1])\n",
        "\n",
        "\tneighbors = list()\n",
        " # list is already sorted \n",
        " # no need to iterate through the whole loop so will \n",
        " # will append those training sets to the neighbor list\n",
        "\tfor i in range(num_neighbors):\n",
        "\t\tneighbors.append(distances[i][0])\n",
        "\treturn neighbors\n"
      ],
      "metadata": {
        "id": "H3VdXzCtSEyI"
      },
      "execution_count": 8,
      "outputs": []
    },
    {
      "cell_type": "code",
      "source": [
        "# this is prediction method which will call get_neighbours\n",
        "# and get_neighbors will call Euclidean distance\n",
        "def predict_classification(train, test_row, num_neighbors):\n",
        "\tneighbors = get_neighbors(train, test_row, num_neighbors)\n",
        " # it is taking last index for each row in neighbour list\n",
        " # The  max function is used with the set and count methods to find the most common class labe\n",
        "\toutput_values = [pred[-1] for pred in neighbors]\n",
        "\tprediction = max(set(output_values), key=output_values.count)\n",
        "\treturn prediction"
      ],
      "metadata": {
        "id": "GSJJ_XtKUOoh"
      },
      "execution_count": 9,
      "outputs": []
    },
    {
      "cell_type": "code",
      "source": [
        " # This is the dataset which has training and testing both data\n",
        " # 1st row for Testing data\n",
        " # rest rows for Training data\n",
        "dataset = [[3,1,2,5,6,7,1],\n",
        "    [1,2,3,2,1,3,0],  \n",
        "    [2,1,3,3,1,2,0], \n",
        "    [1,1,2,3,2,2,0], \n",
        "    [2,2,3,3,2,1,0], \n",
        "    [6,5,7,5,6,7,1], \n",
        "    [5,6,6,6,5,7,1], \n",
        "    [5,6,7,5,7,6,1],\n",
        "    [7,6,7,6,5,6,1]]"
      ],
      "metadata": {
        "id": "LXiBKpa1UkQ6"
      },
      "execution_count": 10,
      "outputs": []
    },
    {
      "cell_type": "code",
      "source": [
        "# giving the paramters -> training set , dataset[0] as testing data and K = 3\n",
        "prediction = predict_classification(dataset, dataset[0], 3)\n",
        "print(\"----------------------------------------------------\")\n",
        "if dataset[0][-1] == 0:\n",
        "    dataset[0][-1] = 'Negative'\n",
        "else:\n",
        "    dataset[0][-1] = 'Positive'\n",
        "if prediction == 0:\n",
        "    prediction = 'Negative'\n",
        "else:\n",
        "    prediction = 'Positive'\n",
        "\n",
        "print(f'Expected : {dataset[0][-1]} , Prediction : {prediction}')\n",
        "print(\"----------------------------------------------------\")"
      ],
      "metadata": {
        "colab": {
          "base_uri": "https://localhost:8080/"
        },
        "id": "4pTUJXTOUqB-",
        "outputId": "e5e354ab-ed1d-4552-9dd0-b7d7996347aa"
      },
      "execution_count": 11,
      "outputs": [
        {
          "output_type": "stream",
          "name": "stdout",
          "text": [
            "----------------------------------------------------\n",
            "Expected : Positive , Prediction : Positive\n",
            "----------------------------------------------------\n"
          ]
        }
      ]
    }
  ]
}